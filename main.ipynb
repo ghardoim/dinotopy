{
 "cells": [
  {
   "cell_type": "code",
   "execution_count": null,
   "metadata": {},
   "outputs": [],
   "source": [
    "import pandas as pd\n",
    "\n",
    "pd.options.display.max_columns = None\n",
    "pd.options.display.max_rows = None"
   ]
  },
  {
   "cell_type": "code",
   "execution_count": null,
   "metadata": {},
   "outputs": [],
   "source": [
    "thoughtco_df = pd.read_excel(\"thoughtco/data/thoughtco-dataset.xlsx\").fillna(\"\")\n",
    "thoughtco_df[\"source\"] = \"thoughtco\""
   ]
  },
  {
   "cell_type": "code",
   "execution_count": null,
   "metadata": {},
   "outputs": [],
   "source": [
    "def _pronunciation(dino:str) -> str:\n",
    "    if \" (\" in dino and \"), \" in dino: return dino.split(\" (\")[1].split(\"), \")[0]\n",
    "    elif \"nounced \" in dino:\n",
    "        dino = dino.split(\"nounced \")[1]\n",
    "        return dino.split(\";\")[0] if \";\" in dino else dino"
   ]
  },
  {
   "cell_type": "code",
   "execution_count": null,
   "metadata": {},
   "outputs": [],
   "source": [
    "def _meaning(dino:str) -> str:\n",
    "    if \"), \" in dino: return dino.split(\"), \")[1]\n",
    "    elif \")\" in dino: return dino.split(\")\")[0].split(\" (\")[1].replace(\"\\\"\", \"\")"
   ]
  },
  {
   "cell_type": "code",
   "execution_count": null,
   "metadata": {},
   "outputs": [],
   "source": [
    "def _name(dino:str) -> str:\n",
    "    dino = dino.split(\" \")\n",
    "    try: return dino[0] if \"(\" in dino[1] else \"-\".join(dino[:2])\n",
    "    except IndexError: return dino[0]"
   ]
  },
  {
   "cell_type": "code",
   "execution_count": null,
   "metadata": {},
   "outputs": [],
   "source": [
    "for fun in [_pronunciation, _meaning, _name]:\n",
    "    thoughtco_df[fun.__name__[1:]] = thoughtco_df[\"name\"].apply(fun)"
   ]
  },
  {
   "cell_type": "code",
   "execution_count": null,
   "metadata": {},
   "outputs": [],
   "source": [
    "nhm_df = pd.read_excel(\"nhm/data/nhm-dataset.xlsx\").fillna(\"\")\n",
    "nhm_df[\"source\"] = \"nhm\""
   ]
  },
  {
   "cell_type": "code",
   "execution_count": null,
   "metadata": {},
   "outputs": [],
   "source": [
    "from matplotlib import pyplot as plt\n",
    "for c in [ \"found in\", \"named by\"]:\n",
    "    plt.figure(figsize=(25, 1))\n",
    "    nhm_df[c].apply(lambda d: d.split(\", \")).explode().value_counts().tail(10).plot(kind='bar', figsize=(25, 6))\n",
    "    plt.show()"
   ]
  }
 ],
 "metadata": {
  "kernelspec": {
   "display_name": "Python 3.10.4 64-bit",
   "language": "python",
   "name": "python3"
  },
  "language_info": {
   "codemirror_mode": {
    "name": "ipython",
    "version": 3
   },
   "file_extension": ".py",
   "mimetype": "text/x-python",
   "name": "python",
   "nbconvert_exporter": "python",
   "pygments_lexer": "ipython3",
   "version": "3.10.4"
  },
  "orig_nbformat": 4,
  "vscode": {
   "interpreter": {
    "hash": "47d59cec4c0883e0b373985bd923f149eff67b35653e9bb78b95a50e49db9672"
   }
  }
 },
 "nbformat": 4,
 "nbformat_minor": 2
}
