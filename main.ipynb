{
 "cells": [
  {
   "cell_type": "code",
   "execution_count": null,
   "metadata": {},
   "outputs": [],
   "source": [
    "from langchain.output_parsers import PydanticOutputParser\n",
    "from langchain_google_genai import GoogleGenerativeAI\n",
    "from langchain.prompts import PromptTemplate\n",
    "\n",
    "from models.dinosaur import Dinosaur\n",
    "\n",
    "from dotenv import load_dotenv\n",
    "from os import getenv\n",
    "\n",
    "from lxml import html\n",
    "import requests as rq\n",
    "import pandas as pd\n",
    "\n",
    "load_dotenv()\n",
    "\n",
    "NHM = {\n",
    "    \"url\": \"https://www.nhm.ac.uk/discover/dino-directory/name/name-az-all/gallery.html\",\n",
    "    \"xpath\": \"//*[@id='content']/div[2]/div[2]/ul/li/a\",\n",
    "    \"domain\": \"https://www.nhm.ac.uk/\"\n",
    "}\n",
    "\n",
    "# THOUGHTCO = {\n",
    "#     \"url\": \"https://www.thoughtco.com/dinosaurs-a-to-z-1093748\",\n",
    "#     \"xpath\": \"//*[@id='mntl-sc-page_1-0']/p\"\n",
    "# }\n",
    "\n",
    "WIKIPEDIA = {\n",
    "    \"url\": \"https://en.wikipedia.org/wiki/list_of_dinosaur_genera\",\n",
    "    \"xpath\": \"//*[@id='mw-content-text']/div[1]/table/following::ul/li/a\",\n",
    "    \"domain\": \"https://en.wikipedia.org/\"\n",
    "}\n",
    "\n",
    "def extract(url:str, xpath:str, **kwargs) -> list:\n",
    "    return [ (d.text_content().lower(), d.attrib[\"href\"]) for d in html.fromstring(rq.get(url).content).xpath(xpath) ]\n",
    "\n",
    "LLM = GoogleGenerativeAI(model=\"gemini-2.0-flash\", api_key=getenv(\"GOOGLE_API_KEY\"), temperature=0)"
   ]
  },
  {
   "cell_type": "code",
   "execution_count": null,
   "metadata": {},
   "outputs": [],
   "source": [
    "prompt = PromptTemplate(template=\"Get all the data related to this dinosaur: {URL}\\n{FORMAT}\", input_variables=[\"URL\", \"FORMAT\"])\n",
    "chain = prompt | LLM | (parser := PydanticOutputParser(pydantic_object=Dinosaur))"
   ]
  },
  {
   "cell_type": "code",
   "execution_count": null,
   "metadata": {},
   "outputs": [],
   "source": [
    "def load(where:dict, how_many:int=10) -> None:\n",
    "    dinolist = extract(**WIKIPEDIA)[:how_many]\n",
    "\n",
    "    def invoke(url:str):\n",
    "        return chain.invoke({\"URL\": url, \"FORMAT\": parser.get_format_instructions()})\n",
    "\n",
    "    dinodf = pd.json_normalize([ invoke(where[\"domain\"] + d[-1]).model_dump() for d in dinolist ])\n",
    "    dinodf.to_excel(\"data/dinos.xlsx\")"
   ]
  }
 ],
 "metadata": {
  "kernelspec": {
   "display_name": "Python 3",
   "language": "python",
   "name": "python3"
  },
  "language_info": {
   "codemirror_mode": {
    "name": "ipython",
    "version": 3
   },
   "file_extension": ".py",
   "mimetype": "text/x-python",
   "name": "python",
   "nbconvert_exporter": "python",
   "pygments_lexer": "ipython3",
   "version": "3.13.2"
  },
  "orig_nbformat": 4
 },
 "nbformat": 4,
 "nbformat_minor": 2
}
